{
 "cells": [
  {
   "cell_type": "code",
   "execution_count": null,
   "metadata": {},
   "outputs": [],
   "source": [
    "import os\n",
    "\n",
    "from openai import AzureOpenAI\n",
    "from dotenv import load_dotenv\n",
    "from azure.core.credentials import AzureKeyCredential\n",
    "from azure.search.documents import SearchClient\n",
    "from tenacity import retry, stop_after_attempt, wait_random_exponential\n",
    "from azure.search.documents.models import (QueryAnswerType, QueryCaptionType,\n",
    "                                           QueryType, VectorizedQuery)\n",
    "\n",
    "\n",
    "\n",
    "def printmd(string):\n",
    "    display(Markdown(string))"
   ]
  },
  {
   "cell_type": "code",
   "execution_count": null,
   "metadata": {},
   "outputs": [],
   "source": [
    "load_dotenv(\"credentials.env\")\n",
    "\n",
    "ai_search_service_endpoint = os.getenv(\"AZURE_AI_SEARCH_ENDPOINT\")\n",
    "ai_search_admin_key = os.getenv(\"AZURE_AI_SEARCH_KEY\")\n",
    "ai_search_api_version = os.getenv(\"AZURE_AI_SEARCH_API_VERSION\")\n",
    "ai_search_index_name = os.getenv(\"AZURE_AI_SEARCH_INDEX_NAME\")\n",
    "ai_search_semantic_config_name = os.getenv(\"AZURE_AI_SEARCH_SEMANTIC_CONFIG_NAME\")\n",
    "\n",
    "azure_ai_search_credential = AzureKeyCredential(ai_search_admin_key)\n",
    "\n",
    "\n",
    "azure_openai_endpoint = os.environ[\"AZURE_OPENAI_ENDPOINT\"]\n",
    "azure_openai_api_key = os.environ[\"AZURE_OPENAI_API_KEY\"]\n",
    "azure_openai_api_version = os.environ[\"AZURE_OPENAI_API_VERSION\"]\n",
    "azure_openai_embedding_deployed_model = os.environ[\"AZURE_OPENAI_EMBEDDING_DEPLOYED_MODEL\"]\n",
    "azure_openai_chat_model_deployment_name = os.environ[\"AZURE_OPENAI_CHAT_MODEL_DEPLOYEMENT_NAME\"]"
   ]
  },
  {
   "cell_type": "code",
   "execution_count": null,
   "metadata": {},
   "outputs": [],
   "source": [
    "@retry(wait=wait_random_exponential(min=1, max=20), stop=stop_after_attempt(6))\n",
    "def generate_embeddings(text, model, client):\n",
    "    \"\"\"Generates embeddings for a given text using Azure OpenAI\"\"\"\n",
    "    return client.embeddings.create(input=[text], model=model).data[0].embedding\n"
   ]
  },
  {
   "cell_type": "code",
   "execution_count": null,
   "metadata": {},
   "outputs": [],
   "source": [
    "def get_semantic_hybrid_results(query: str,\n",
    "                                search_client,\n",
    "                                azure_openai_client,\n",
    "                                ai_search_semantic_config_name,\n",
    "                                embeddings_deployed_model_name: str = \"text-embedding-ada-002\",\n",
    "                                top: int = 5):\n",
    "    \"\"\"Searches for documents using a hybrid semantic search approach (text + vector + semantic) search\"\"\"\n",
    "\n",
    "    vector_query = VectorizedQuery(\n",
    "        vector=generate_embeddings(\n",
    "            query, model=embeddings_deployed_model_name, client=azure_openai_client),\n",
    "        k_nearest_neighbors=3,\n",
    "        fields=\"vector\" # Please replace with the name of the field containing the content vector (See Azure Portal for your index schema)\n",
    "    )\n",
    "\n",
    "    results = list(search_client.search(\n",
    "        search_text=query,\n",
    "        vector_queries=[vector_query],\n",
    "        select=[\"title\", \"chunk\", \"chunk_id\",\"parent_id\"],\n",
    "        query_type=QueryType.SEMANTIC,\n",
    "        semantic_configuration_name=ai_search_semantic_config_name, # Please replace with the name of your semantic search configuration (See Azure Portal)\n",
    "        query_caption=QueryCaptionType.EXTRACTIVE,\n",
    "        query_answer=QueryAnswerType.EXTRACTIVE,\n",
    "        top=top,\n",
    "    ))\n",
    "\n",
    "    return results"
   ]
  },
  {
   "cell_type": "code",
   "execution_count": null,
   "metadata": {},
   "outputs": [],
   "source": [
    "\n",
    "QUESTION = \"Can you give me a brief description of Azure OPenAI service?\"\n",
    "\n",
    "\n",
    "search_client = SearchClient(endpoint=ai_search_service_endpoint,\n",
    "                             index_name=ai_search_index_name, credential=azure_ai_search_credential)\n",
    "\n",
    "\n",
    "azure_openai_client = AzureOpenAI(\n",
    "    api_key=os.getenv(\"AZURE_OPENAI_API_KEY\"),\n",
    "    api_version=azure_openai_api_version,\n",
    "    azure_endpoint=azure_openai_endpoint,\n",
    ")\n",
    "\n",
    "search_results = get_semantic_hybrid_results(\n",
    "    query=QUESTION, ai_search_semantic_config_name=ai_search_semantic_config_name, top=5, search_client=search_client, azure_openai_client=azure_openai_client)\n",
    "\n",
    "print(f\"Total results: {len(search_results)}\")\n",
    "\n",
    "for result in search_results:\n",
    "    print(\n",
    "        f\"~~~~~~~~~~~~~~~~~~{result['title']}~~~~~~~~~~~~~~~~~~\")\n",
    "    print(f\"Reranker Score: {result['@search.reranker_score']}\")\n",
    "    print(f\"Search Score: {result['@search.score']}\")\n",
    "    print(f\"Title: {result['title']}\")\n",
    "    print(f\"Chunck Id: {result['chunk_id']}\")\n",
    "    print(f\"Parent Id: {result['parent_id']}\")\n",
    "    print(f\"Content: {result['chunk']}\")\n"
   ]
  }
 ],
 "metadata": {
  "kernelspec": {
   "display_name": "wavestone-test",
   "language": "python",
   "name": "python3"
  },
  "language_info": {
   "codemirror_mode": {
    "name": "ipython",
    "version": 3
   },
   "file_extension": ".py",
   "mimetype": "text/x-python",
   "name": "python",
   "nbconvert_exporter": "python",
   "pygments_lexer": "ipython3",
   "version": "3.11.7"
  }
 },
 "nbformat": 4,
 "nbformat_minor": 2
}
